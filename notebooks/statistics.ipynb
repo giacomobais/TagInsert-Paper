{
 "cells": [
  {
   "cell_type": "code",
   "execution_count": 2,
   "id": "92228757",
   "metadata": {},
   "outputs": [],
   "source": [
    "import numpy as np\n",
    "\n",
    "def calc_mean_and_std(data):\n",
    "    if not data:\n",
    "        raise ValueError(\"Data list cannot be empty\")\n",
    "    \n",
    "    mean = np.mean(data)\n",
    "    std_dev = np.std(data, ddof=1)  # Sample standard deviation\n",
    "    return mean*100, std_dev*100  # Convert to percentage"
   ]
  },
  {
   "cell_type": "code",
   "execution_count": 15,
   "id": "ea92770e",
   "metadata": {},
   "outputs": [
    {
     "data": {
      "text/plain": [
       "(91.62333333333333, 0.9425334653652007)"
      ]
     },
     "execution_count": 15,
     "metadata": {},
     "output_type": "execute_result"
    }
   ],
   "source": [
    "calc_mean_and_std([0.92004, 0.9055, 0.92316])"
   ]
  },
  {
   "cell_type": "code",
   "execution_count": 55,
   "id": "76c00538",
   "metadata": {},
   "outputs": [
    {
     "data": {
      "text/plain": [
       "((np.float64(95.732), np.float64(0.0034641016151348092)),\n",
       " (np.float64(94.44), np.float64(0.0984885780179609)))"
      ]
     },
     "execution_count": 55,
     "metadata": {},
     "output_type": "execute_result"
    }
   ],
   "source": [
    "calc_mean_and_std([0.95736, 0.9573, 0.9573]), calc_mean_and_std([0.9455, 0.9441, 0.9436])"
   ]
  },
  {
   "cell_type": "code",
   "execution_count": 56,
   "id": "2de1a9ed",
   "metadata": {},
   "outputs": [
    {
     "data": {
      "text/plain": [
       "((np.float64(63.08433333333333), np.float64(0.8094450774038573)),\n",
       " (np.float64(59.97), np.float64(2.2210808179802966)))"
      ]
     },
     "execution_count": 56,
     "metadata": {},
     "output_type": "execute_result"
    }
   ],
   "source": [
    "calc_mean_and_std([0.62617, 0.62617,  0.64019]), calc_mean_and_std([0.6215, 0.6005, 0.5771])"
   ]
  },
  {
   "cell_type": "code",
   "execution_count": 57,
   "id": "b219ebf3",
   "metadata": {},
   "outputs": [
    {
     "data": {
      "text/plain": [
       "((np.float64(7.966666666666667), np.float64(1.6802777548171413)),\n",
       " (np.float64(21.379), np.float64(4.11351103073761)))"
      ]
     },
     "execution_count": 57,
     "metadata": {},
     "output_type": "execute_result"
    }
   ],
   "source": [
    "calc_mean_and_std([0.065, 0.098, 0.076]), calc_mean_and_std([0.26087, 0.1957, 0.1848])"
   ]
  }
 ],
 "metadata": {
  "kernelspec": {
   "display_name": "base",
   "language": "python",
   "name": "python3"
  },
  "language_info": {
   "codemirror_mode": {
    "name": "ipython",
    "version": 3
   },
   "file_extension": ".py",
   "mimetype": "text/x-python",
   "name": "python",
   "nbconvert_exporter": "python",
   "pygments_lexer": "ipython3",
   "version": "3.12.7"
  }
 },
 "nbformat": 4,
 "nbformat_minor": 5
}
